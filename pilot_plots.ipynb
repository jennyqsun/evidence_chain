{
 "cells": [
  {
   "cell_type": "code",
   "execution_count": 1,
   "metadata": {},
   "outputs": [],
   "source": [
    "# Created on 4/5/22 at 2:01 PM \n",
    "\n",
    "# Author: Jenny Sun\n",
    "# Created on 4/5/22 at 12:44 PM\n",
    "\n",
    "# Author: Jenny Sun\n",
    "import matplotlib as mpl\n",
    "mpl.rcParams['lines.markersize'] = 8\n",
    "import numpy as np\n",
    "import pandas as pd\n",
    "import os\n",
    "from os import listdir\n",
    "import matplotlib.pyplot as plt\n",
    "import pickle\n",
    "from notebook.services.config import ConfigManager\n",
    "import matplotlib.lines as mlines\n",
    "import seaborn as sns\n",
    "# configurate fonts\n",
    "plt.rcParams.update({'font.size': 17})\n",
    "\n",
    "# set up file\n",
    "onlyfile = [f for f in listdir('data') if (('888' in f) or ('888' in f)) and ('csv' in f)]\n",
    "onlyfile.sort()\n",
    "\n",
    "# concat all the csv files\n",
    "df = []\n",
    "for f in onlyfile:\n",
    "    df.append(pd.read_csv('data/' + f))\n",
    "\n",
    "condPerBlock=[]\n",
    "for d in df:\n",
    "    condPerBlock.append(d['stimDur'].unique())\n",
    "\n",
    "df = pd.concat(df)\n",
    "\n",
    "def loadPKL(filename):\n",
    "    myfile = open(filename, 'rb')\n",
    "    f = pickle.load(myfile)\n",
    "    return f\n"
   ]
  },
  {
   "cell_type": "code",
   "execution_count": 2,
   "metadata": {},
   "outputs": [
    {
     "name": "stdout",
     "output_type": "stream",
     "text": [
      "% of null trials: 0.00992063492063492\n"
     ]
    }
   ],
   "source": [
    "# get rid of trials without any respones\n",
    "\n",
    "df['time'].replace('[]',np.nan, inplace =True)\n",
    "print('% of null trials:', sum(df['time'].isnull()) / len(df) )\n",
    "df_1 = df[df['time'].notnull()]\n",
    "\n",
    "# unique conditions\n",
    "stimDur= df_1['stimDur'].unique()\n",
    "stimDur.sort()\n"
   ]
  },
  {
   "cell_type": "code",
   "execution_count": 3,
   "metadata": {},
   "outputs": [],
   "source": [
    "# get important arrays\n",
    "def getAllArrays(df_1):\n",
    "    allData = {}\n",
    "    rt = np.array(df_1['time'].astype('float'))\n",
    "    count = np.array(df_1['count'])\n",
    "\n",
    "    # clean the data\n",
    "    key = []\n",
    "    sequence = []\n",
    "    stimDur = []\n",
    "\n",
    "    for index, row in df_1.iterrows():\n",
    "        if row['key'] == \"[5]\":\n",
    "            k = 1\n",
    "        else:\n",
    "            k = 0\n",
    "        key.append(k)\n",
    "        seq = row['sequence'].split(\".\")\n",
    "        l = []\n",
    "        for i in seq:\n",
    "            i = i.replace(\"[\", '')\n",
    "            i = i.replace(\"]\", '')\n",
    "            if '1' in i:\n",
    "                l.append(int(i))\n",
    "        sequence.append(l)\n",
    "        stimDur.append(row['stimDur'])\n",
    "    key = np.array(key)\n",
    "    sequence = np.array(sequence)\n",
    "    stimDur = np.array(stimDur)\n",
    "    allData = {'rt':rt, 'count': count, 'key':key, 'sequence': sequence, 'stimDur': stimDur}\n",
    "    return allData"
   ]
  },
  {
   "cell_type": "code",
   "execution_count": 4,
   "metadata": {},
   "outputs": [],
   "source": [
    "allData = getAllArrays(df_1)\n",
    "def getDict(allData, dur=0.2):\n",
    "    condData = {}\n",
    "    # index the conditions\n",
    "    trialind = allData['stimDur']==dur\n",
    "    rt_ = allData['rt'][trialind]\n",
    "    key_= allData['key'][trialind]\n",
    "    count_ = allData['count'][trialind]\n",
    "    sequence_ = allData['sequence'][trialind]\n",
    "\n",
    "    cumsum = np.cumsum(sequence_,axis=1)   # random walk of the sequence\n",
    "\n",
    "\n",
    "    sequence_stop =[]   # sequence stopping at the \n",
    "    cumsum_stop = []  # random walk when sequence stops\n",
    "    maxind = []     # index of max evidence    \n",
    "    direction = []  # direction of the max ind, O is 1 and X is 0 \n",
    "    maxvalue = []   # value at the max evidenc\n",
    "    boundary = []   # value upon stop\n",
    "    for r in range(0,len(sequence_)):\n",
    "        s = sequence_[r][0:count_[r]+1]\n",
    "        sequence_stop.append(s)\n",
    "        c = np.cumsum(s)\n",
    "        maxind.append(np.argmax(np.abs(c)))\n",
    "        cumsum_stop.append(c)\n",
    "        boundary.append(c[-1:])\n",
    "        maxvalue.append(c[maxind[-1]])\n",
    "        if c[maxind[-1]] < 0:\n",
    "            direction.append(0)\n",
    "        else:\n",
    "            direction.append(1)\n",
    "    direction=np.array(direction)\n",
    "    maxvalue = np.array(maxvalue)\n",
    "    boundary = np.squeeze(np.array(boundary))\n",
    "    maxind = np.array(maxind)\n",
    "    condData = {'trialind':trialind, 'rt_':rt_, 'key_':key_, 'count_':count_,\n",
    "               'sequence_':sequence_, 'cumsum':cumsum, 'sequence_stop':sequence_stop,\n",
    "               'cumsum_stop':cumsum_stop, 'maxind':maxind, 'direction':direction,'maxvalue':maxvalue,\n",
    "               'boundary':boundary}\n",
    "    return condData,dur\n",
    "\n",
    "\n",
    "\n",
    "\n"
   ]
  },
  {
   "cell_type": "code",
   "execution_count": 5,
   "metadata": {},
   "outputs": [],
   "source": [
    "## plotting function\n",
    "def plot_sorted(d,dur):\n",
    "    # sorting ind\n",
    "    rt_ind = np.argsort(d['rt_'])   # sort by rt from fastest to slowest\n",
    "    boundary_ind = np.argsort(d['boundary']) # sort from lowest boundary to highest\n",
    "    maxvalue_ind = np.argsort(np.abs(d['maxvalue']))\n",
    "    fig, ax = plt.subplots(1, figsize=(16,20))\n",
    "\n",
    "    for p in np.unique(np.abs(d['maxvalue'])):\n",
    "        ind_p = np.abs(d['maxvalue']) == p\n",
    "        acc = d['direction'] ==d['key_']\n",
    "        acc_p=acc[ind_p]\n",
    "        maxind_p = d['maxind'][ind_p]\n",
    "        count_p = d['count_'][ind_p]\n",
    "        maxind_sort = np.argsort(maxind_p)\n",
    "        maxind_p = maxind_p[maxind_sort]\n",
    "        count_p = count_p[maxind_sort]\n",
    "    #     print(sum(count_p>maxind_p) == len(count_p))\n",
    "        acc_p = acc_p[np.argsort(maxind_p)]\n",
    "        yvec =  np.linspace(p-0.2, p+0.7,len(maxind_p))\n",
    "        a = ax.plot(maxind_p, yvec,'^')\n",
    "        col = a[0].get_color()\n",
    "        ax.plot(count_p+0.5,yvec,'o', color=col)\n",
    "        ax.grid(visible=True,axis='x', linestyle='-')\n",
    "\n",
    "        ax.set_xticks(np.arange(0,31))\n",
    "\n",
    "        for i in range(0, len(acc_p)):\n",
    "            x1 = maxind_p[i]\n",
    "            x2= count_p[i] +0.5\n",
    "            if acc_p[i]:\n",
    "                ax.plot((x1,x2),(yvec[i], yvec[i]), ls = '-',color = col)\n",
    "            else: \n",
    "                ax.plot((x1,x2),(yvec[i], yvec[i]), ls = '--',color = col)\n",
    "        ax.set_yticks(np.unique(np.abs(d['maxvalue'])))\n",
    "        label = [str(i) for i in np.arange(1,31).tolist()] + ['  end \\n of trial']\n",
    "        ax.set_xticks(np.arange(0,31))\n",
    "        ax.set_xticklabels(label)\n",
    "        ax.set_ylabel('Magnitude of Peak Evidence Upon Reponse')\n",
    "        ax.set_xlabel('Number of Stimuli')\n",
    "\n",
    "        trig = mlines.Line2D([], [], ls = 'none', color='black', marker='^',\n",
    "                                  markersize=15, label='The Display Where the Chain Peaked Upon Response')\n",
    "        circ = mlines.Line2D([], [], ls = 'none', color='black', marker='o',\n",
    "                                  markersize=15, label='The Display Where Subject Responded')\n",
    "        ax.legend(handles=[trig,circ])\n",
    "\n",
    "\n",
    "        \n",
    "        plt.title('Stimulus Duration Per Display: %s ms'%dur)"
   ]
  },
  {
   "cell_type": "code",
   "execution_count": 6,
   "metadata": {},
   "outputs": [],
   "source": [
    "def plot_max_boundary(d,dur):\n",
    "    fig,ax = plt.subplots(1, figsize=(10,10))\n",
    "    maxvalue = d['maxvalue']\n",
    "    boundary = d['boundary']\n",
    "    ax.scatter(maxvalue, boundary)\n",
    "    ax.grid(visible=True, axis = 'both')\n",
    "    ax.set_xticks(np.arange(-max(np.abs(maxvalue)), max(np.abs(maxvalue)),2))\n",
    "    ax.set_xlabel('Maximum evidence of the Chain Upon Response (Display at Response included)')\n",
    "    ax.set_ylabel('Level of evidence at Response')\n",
    "    plt.title('Stimulus Duration Per Display: %s ms \\n 0 Mean No Evidence'%dur )"
   ]
  },
  {
   "cell_type": "code",
   "execution_count": 7,
   "metadata": {},
   "outputs": [],
   "source": [
    "def plot_hist(d,dur,step):\n",
    "    fig,ax = plt.subplots(step,2, figsize=(10,15))\n",
    "\n",
    "\n",
    "    bound = np.zeros((len(d['key_']),step))\n",
    "\n",
    "    trial_count= 0\n",
    "    for cs in d['cumsum_stop']:\n",
    "        bound[trial_count,:] = cs[-step:]\n",
    "        trial_count +=1\n",
    "\n",
    "    X = bound[d['key_']==0,:]\n",
    "    O = bound[d['key_'] ==1,:]\n",
    "\n",
    "    xmax = max(np.max(-X),np.max(O))\n",
    "    xmin = min(np.min(O), -np.max(X))\n",
    "    lag = [1,2,3,4]\n",
    "    for l in lag:\n",
    "        sns.histplot(-X[:,-l],discrete=True, ax = ax[l-1][0],color = 'blue')\n",
    "        sns.histplot(O[:,-l],discrete=True, ax = ax[l-1][1],color = 'red')\n",
    "        if l == 1:\n",
    "            ax[l-1][0].set_title('Boundary at Response')\n",
    "        else:\n",
    "            ax[l-1][0].set_title('%s Step Back before Response'% (l-1))\n",
    "        ax[l-1][0].set_xlabel('Evidence Towards X')\n",
    "        ax[l-1][1].set_xlabel('Evidence Towards O')\n",
    "        ax[l-1][0].set_xlim(xmin,xmax)\n",
    "        ax[l-1][1].set_xlim(xmin,xmax)\n",
    "\n",
    "    fig.suptitle('Histogram of Boundary: %s ms'%dur)\n",
    "    fig.tight_layout()\n"
   ]
  },
  {
   "cell_type": "code",
   "execution_count": 8,
   "metadata": {},
   "outputs": [],
   "source": [
    "def plot_hist_runs(d,dur,step):\n",
    "    fig,ax = plt.subplots(step,2, figsize=(10,15))\n",
    "\n",
    "\n",
    "    bound = np.zeros((len(d['key_']),step))\n",
    "\n",
    "    trial_count= 0\n",
    "    for cs in d['sequence_stop']:\n",
    "        bound[trial_count,:] = np.cumsum(cs[-step:][::-1])\n",
    "        trial_count +=1\n",
    "    X = bound[d['key_']==0,:]\n",
    "    O = bound[d['key_'] ==1,:]\n",
    "\n",
    "    xmax = max(np.max(-X),np.max(O))\n",
    "    xmin = min(np.min(O), -np.max(X))\n",
    "    lag = [0,1,2,3]\n",
    "    for l in lag:\n",
    "        g = sns.histplot(-X[:,l],discrete=True, ax = ax[l][0],color = 'blue')\n",
    "        sns.histplot(O[:,l],discrete=True, ax = ax[l][1],color = 'red')\n",
    "        print(g.xaxis.get_ticklabels())\n",
    "        if l == 0:\n",
    "            ax[l][0].set_title('Boundary at Response')\n",
    "        else:\n",
    "            ax[l][0].set_title('%s Step Back Integration'% (l))\n",
    "        ax[l][0].set_xlabel('Evidence Towards X')\n",
    "        ax[l][1].set_xlabel('Evidence Towards O')\n",
    "#         ax[l][0].set_xlim(xmin,xmax)\n",
    "#         ax[l][1].set_xlim(xmin,xmax)\n",
    "\n",
    "    fig.suptitle('Histogram of Boundary: %s ms'%dur)\n",
    "    fig.tight_layout()\n"
   ]
  },
  {
   "cell_type": "code",
   "execution_count": 9,
   "metadata": {},
   "outputs": [],
   "source": [
    "def plot_rt(d,dur):\n",
    "    fig,ax = plt.subplots(1, figsize=(10,10))\n",
    "    rt = d['rt_']\n",
    "    sns.histplot(rt, ax = ax,color = 'green')\n",
    "    ax.set_xlabel('RT(s)')\n",
    "    plt.title('RT Distribution: %s ms '%dur )\n",
    "    fig.tight_layout()\n"
   ]
  },
  {
   "cell_type": "code",
   "execution_count": 10,
   "metadata": {},
   "outputs": [],
   "source": [
    "def plot_count(d,dur):\n",
    "    fig,ax = plt.subplots(1, figsize=(10,10))\n",
    "    count = d['count_']\n",
    "    sns.histplot(count, ax = ax,color = 'green')\n",
    "    ax.set_xlabel('Number of Samples')\n",
    "    plt.title('Histogram of Number of Samples Displayed: %s ms'%dur )\n",
    "    fig.tight_layout()\n",
    "    fig.savefig('count_hist_%s.png'%dur,facecolor='w')"
   ]
  },
  {
   "cell_type": "code",
   "execution_count": 11,
   "metadata": {},
   "outputs": [],
   "source": [
    "def plot_hist_count(d,dur):\n",
    "    fig,ax = plt.subplots(1,2, figsize=(10,5))\n",
    "    seq = d['sequence_stop']\n",
    "    key = d['key_']\n",
    "    X = key==0\n",
    "    O = key==1\n",
    "    X_count = []\n",
    "    O_count = []\n",
    "    for i, j in enumerate(seq):\n",
    "        if key[i] ==0:\n",
    "            X_count.append(sum(j==-1))\n",
    "        else:\n",
    "            O_count.append(sum(j==1))\n",
    "    \n",
    "    \n",
    "    sns.histplot(X_count,discrete=True, ax = ax[0],color = 'blue')\n",
    "    sns.histplot(O_count,discrete=True, ax = ax[1],color = 'red')\n",
    "    ax[0].set_xlabel('Number of Xs')\n",
    "    ax[1].set_xlabel('Number of Os')\n",
    "    fig.suptitle('Histogram of Counter of Choices: %s ms'%dur )\n",
    "    fig.savefig('counter_hist_%s.png'%dur,facecolor='w')"
   ]
  },
  {
   "cell_type": "code",
   "execution_count": 12,
   "metadata": {},
   "outputs": [],
   "source": [
    "def plot_peak_rt(d,dur):\n",
    "    fig,ax = plt.subplots(1,2, figsize=(14,7))\n",
    "    peakind = d['maxind']\n",
    "    rt = d['rt_']\n",
    "    key = d['key_']\n",
    "    X = key==0\n",
    "    O = key==1\n",
    "    ax[0].scatter(rt[X], peakind[X])\n",
    "    ax[1].scatter(rt[O], peakind[O])\n",
    "    \n",
    "\n",
    "    "
   ]
  },
  {
   "cell_type": "code",
   "execution_count": 13,
   "metadata": {},
   "outputs": [],
   "source": [
    "def plot_rt_bound(d,dur):\n",
    "    from scipy import stats\n",
    "\n",
    "    fig,ax = plt.subplots(1,2, figsize=(14,7))\n",
    "    rt =d['rt_']\n",
    "    bound = d['boundary']\n",
    "    count = d['count_']\n",
    "    rtx = rt[d['key_']==0]\n",
    "    rto = rt[d['key_']==1]\n",
    "    boundx = -bound[d['key_']==0]\n",
    "    boundo = bound[d['key_']==1]\n",
    "    \n",
    "#     ax[0].scatter(rtx,boundx,color = 'blue')\n",
    "#     ax[1].scatter(rto,boundo,color = 'red')\n",
    "    \n",
    "    ax[0].scatter(rtx[boundx>=0],boundx[boundx>=0],color = 'blue')\n",
    "    ax[1].scatter(rto[boundo>=0],boundo[boundo>=0],color = 'red')\n",
    "#     ax[0].axhline(0,color='k',ls = '--')\n",
    "#     ax[1].axhline(0,color= 'k',ls='--')\n",
    "\n",
    "    r1= stats.pearsonr(rtx[boundx>=0],boundx[boundx>=0])\n",
    "    r2= stats.pearsonr(rto[boundo>=0],boundo[boundo>=0])\n",
    "    \n",
    "#     r1= stats.pearsonr(rtx,boundx)\n",
    "#     r2= stats.pearsonr(rto,boundo)\n",
    "\n",
    "    ax[0].set_xlabel('RT(s)')\n",
    "    ax[0].set_ylabel('Level of Evidence Towards Choice X')\n",
    "    ax[0].set_title('r = %.2f' %r1[0])\n",
    "\n",
    "    ax[1].set_xlabel('RT(s)')\n",
    "    ax[1].set_ylabel('Level of Evidence Towards Choice O')\n",
    "    ax[1].set_title('r = %.2f' %r2[0])\n",
    "    \n",
    "    print(r1,r2)\n",
    "    fig.suptitle('Correlation between Boundary and RT: %s ms'%dur )\n",
    "    fig.tight_layout()\n",
    "    fig.savefig('corr_ %s.png'%dur,facecolor='w')"
   ]
  },
  {
   "cell_type": "code",
   "execution_count": 14,
   "metadata": {},
   "outputs": [
    {
     "name": "stdout",
     "output_type": "stream",
     "text": [
      "0.1\n",
      "0.2\n",
      "0.3\n",
      "0.5\n"
     ]
    }
   ],
   "source": [
    "for stim in stimDur:\n",
    "    print(stim)"
   ]
  },
  {
   "cell_type": "code",
   "execution_count": 15,
   "metadata": {},
   "outputs": [
    {
     "name": "stdout",
     "output_type": "stream",
     "text": [
      "0.1\n",
      "0.2\n",
      "0.3\n",
      "0.5\n"
     ]
    },
    {
     "data": {
      "image/png": "[encoded data removed]",
      "text/plain": [
       "<Figure size 1008x504 with 2 Axes>"
      ]
     },
     "metadata": {
      "needs_background": "light"
     },
     "output_type": "display_data"
    },
    {
     "data": {
      "image/png": "[encoded data removed]",
      "text/plain": [
       "<Figure size 1008x504 with 2 Axes>"
      ]
     },
     "metadata": {
      "needs_background": "light"
     },
     "output_type": "display_data"
    },
    {
     "data": {
      "image/png": "[encoded data removed]",
      "text/plain": [
       "<Figure size 1008x504 with 2 Axes>"
      ]
     },
     "metadata": {
      "needs_background": "light"
     },
     "output_type": "display_data"
    },
    {
     "data": {
      "image/png": "[encoded data removed]",
      "text/plain": [
       "<Figure size 1008x504 with 2 Axes>"
      ]
     },
     "metadata": {
      "needs_background": "light"
     },
     "output_type": "display_data"
    }
   ],
   "source": [
    "for stim in stimDur:\n",
    "    print(stim)\n",
    "    d,dur = getDict(allData,dur=stim)\n",
    "#     plot_sorted(d,dur)\n",
    "#     plot_max_boundary(d,dur)\n",
    "#     plot_hist(d,dur,step=4)\n",
    "#     plot_rt(d,dur)\n",
    "#     plot_count(d,dur)\n",
    "#     plot_hist_runs(d,dur, step=4)\n",
    "    plot_peak_rt(d,dur)\n",
    "#     plot_rt_bound(d,dur)\n",
    "# #     plot_hist_count(d,dur)"
   ]
  },
  {
   "cell_type": "code",
   "execution_count": null,
   "metadata": {},
   "outputs": [],
   "source": []
  },
  {
   "cell_type": "code",
   "execution_count": null,
   "metadata": {},
   "outputs": [],
   "source": []
  }
 ],
 "metadata": {
  "kernelspec": {
   "display_name": "Python 3 (ipykernel)",
   "language": "python",
   "name": "python3"
  },
  "language_info": {
   "codemirror_mode": {
    "name": "ipython",
    "version": 3
   },
   "file_extension": ".py",
   "mimetype": "text/x-python",
   "name": "python",
   "nbconvert_exporter": "python",
   "pygments_lexer": "ipython3",
   "version": "3.8.10"
  },
  "pycharm": {
   "stem_cell": {
    "cell_type": "raw",
    "metadata": {
     "collapsed": false
    },
    "source": [
     "# Created on 4/5/22 at 2:01 PM\n",
     "\n",
     "# Author: Jenny Sun\n",
     "# Created on 4/5/22 at 12:44 PM\n",
     "\n",
     "# Author: Jenny Sun\n",
     "import matplotlib as mpl\n",
     "mpl.rcParams['lines.markersize'] = 8\n",
     "\n",
     "import numpy as np\n",
     "import pandas as pd\n",
     "import os\n",
     "from os import listdir\n",
     "import matplotlib.pyplot as plt\n",
     "import pickle\n",
     "\n",
     "plt.rcParams.update({'font.size': 17})\n",
     "onlyfile = [f for f in listdir('data') if '888' in f and 'csv' in f]\n",
     "onlyfile.sort()\n",
     "df = []\n",
     "for f in onlyfile:\n",
     "    df.append(pd.read_csv('data/' + f))\n",
     "\n",
     "condPerBlock=[]\n",
     "for d in df:\n",
     "    condPerBlock.append(d['stimDur'].unique())\n",
     "\n",
     "df = pd.concat(df)\n",
     "\n",
     "def loadPKL(filename):\n",
     "    myfile = open(filename, 'rb')\n",
     "    f = pickle.load(myfile)\n",
     "    return f\n",
     "\n",
     "\n",
     "\n",
     "# for i, j in df.iterrows():\n",
     "#     if df.iloc[i,:]['bytetime'] == '[]':\n",
     "#         print('true')\n",
     "#         df.iloc[i, :]['bytetime']. 'NaN'\n",
     "df['time'].replace('[]',np.nan, inplace =True)\n",
     "sum(df['time'].isnull()) / len(df)\n",
     "\n",
     "\n",
     "df_1 = df[df['time'].notnull()]\n",
     "stimDur= df_1['stimDur'].unique()\n",
     "stimDur.sort()\n",
     "\n",
     "\n",
     "rt = np.array(df_1['time'].astype('float'))\n",
     "count = np.array(df_1['count'])\n",
     "\n",
     "# get key, and cumsum\n",
     "key = []\n",
     "cumsum = []\n"
    ]
   }
  }
 },
 "nbformat": 4,
 "nbformat_minor": 4
}
